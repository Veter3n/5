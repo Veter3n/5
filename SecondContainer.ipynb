{
  "cells": [
    {
      "cell_type": "code",
      "execution_count": 1,
      "metadata": {
        "trusted": true
      },
      "outputs": [],
      "source": [
        "from Triangle import Triangle"
      ]
    },
    {
      "cell_type": "code",
      "execution_count": 2,
      "metadata": {
        "trusted": true
      },
      "outputs": [],
      "source": [
        "def gen_id(x, y, z):\n",
        "    \"\"\"Генератор id для треугольника\"\"\"\n",
        "    return int(str(x) + str(y) + str(z))"
      ]
    },
    {
      "cell_type": "code",
      "execution_count": 3,
      "metadata": {
        "trusted": true
      },
      "outputs": [],
      "source": [
        "class Node:\n",
        "    def __init__(self, value, data=''):\n",
        "        self.value = value\n",
        "        self.left = None\n",
        "        self.right = None\n",
        "        self.height = 1\n",
        "        self.data = data\n",
        "\n",
        "class AVLTree:\n",
        "    '''AVLTree container is tree-type data structure with best time-complexity'''\n",
        "    def __init__(self, *data):\n",
        "        self.root = None\n",
        "        self.index = 0\n",
        "        if data != None:\n",
        "            for el in data:\n",
        "                self.insert(el)\n",
        "    \n",
        "    def insert(self, els):\n",
        "        if not isinstance(els, list):\n",
        "            self.insert_el(gen_id(els.side1,els.side2, els.side3), els)\n",
        "            return\n",
        "        for i in els:\n",
        "            self.insert_el(gen_id(i.side1, i.side2, i.side3), i)\n",
        "            \n",
        "    def insert_el(self, value, data=''):\n",
        "        self.root = self.insert_value(self.root, value, data)\n",
        "        \n",
        "    def insert_value(self, root, value, data):\n",
        "        if not root:\n",
        "            return Node(value, data)\n",
        "        elif value < root.value:\n",
        "            root.left = self.insert_value(root.left, value, data)\n",
        "        else:\n",
        "            root.right = self.insert_value(root.right, value, data)\n",
        "\n",
        "        root.height = 1 + max(self.height(root.left), self.height(root.right))\n",
        "        balance = self.balance(root)\n",
        "\n",
        "        # Left rotation\n",
        "        if balance > 1 and value < root.left.value:\n",
        "            return self.right_rotate(root)\n",
        "        \n",
        "        # Left-Right rotation\n",
        "        if balance > 1 and value > root.left.value:\n",
        "            root.left = self.left_rotate(root.left)\n",
        "            return self.right_rotate(root)\n",
        "\n",
        "        # Right rotation\n",
        "        if balance < -1 and value > root.right.value:\n",
        "            return self.left_rotate(root)\n",
        "        \n",
        "        # Right-Left rotation\n",
        "        if balance < -1 and value < root.right.value:\n",
        "            root.right = self.right_rotate(root.right)\n",
        "            return self.left_rotate(root)\n",
        "\n",
        "        return root\n",
        "    \n",
        "    def height(self, node):\n",
        "        if not node:\n",
        "            return 0\n",
        "        return node.height\n",
        "    \n",
        "    def balance(self, node):\n",
        "        if not node:\n",
        "            return 0\n",
        "        return self.height(node.left) - self.height(node.right)\n",
        "    \n",
        "    def left_rotate(self, z):\n",
        "        y = z.right\n",
        "        T2 = y.left\n",
        "\n",
        "        y.left = z\n",
        "        z.right = T2\n",
        "\n",
        "        z.height = 1 + max(self.height(z.left), self.height(z.right))\n",
        "        y.height = 1 + max(self.height(y.left), self.height(y.right))\n",
        "\n",
        "        return y\n",
        "\n",
        "    def right_rotate(self, z):\n",
        "        y = z.left\n",
        "        T3 = y.right\n",
        "\n",
        "        y.right = z\n",
        "        z.left = T3\n",
        "\n",
        "        z.height = 1 + max(self.height(z.left), self.height(z.right))\n",
        "        y.height = 1 + max(self.height(y.left), self.height(y.right))\n",
        "\n",
        "        return y\n",
        "\n",
        "    def __delitem__(self, unique_id):\n",
        "        self.delete_value(unique_id)\n",
        "        \n",
        "    def delete_value(self, value):\n",
        "        self.root = self.delete(self.root, value)\n",
        "        \n",
        "    def delete(self, root, value):\n",
        "        if not root:\n",
        "            return root\n",
        "\n",
        "        if value < root.value:\n",
        "            root.left = self.delete(root.left, value)\n",
        "        elif value > root.value:\n",
        "            root.right = self.delete(root.right, value)\n",
        "        else:\n",
        "            if not root.left:\n",
        "                temp = root.right\n",
        "                root = None\n",
        "                return temp\n",
        "            elif not root.right:\n",
        "                temp = root.left\n",
        "                root = None\n",
        "                return temp\n",
        "\n",
        "            temp = self.min_value_node(root.right)\n",
        "            root.value = temp.value\n",
        "            root.right = self.delete(root.right, temp.value)\n",
        "\n",
        "        if not root:\n",
        "            return root\n",
        "\n",
        "        root.height = 1 + max(self.height(root.left), self.height(root.right))\n",
        "        balance = self.balance(root)\n",
        "\n",
        "        # Left rotation\n",
        "        if balance > 1 and self.balance(root.left) >= 0:\n",
        "            return self.right_rotate(root)\n",
        "\n",
        "        # Left-Right rotation\n",
        "        if balance > 1 and self.balance(root.left) < 0:\n",
        "            root.left = self.left_rotate(root.left)\n",
        "            return self.right_rotate(root)\n",
        "        \n",
        "        # Right rotation\n",
        "        if balance < -1 and self.balance(root.right) <= 0:\n",
        "            return self.left_rotate(root)\n",
        "\n",
        "        # Right-Left rotation\n",
        "        if balance < -1 and self.balance(root.right) > 0:\n",
        "            root.right = self.right_rotate(root.right)\n",
        "            return self.left_rotate(root)\n",
        "\n",
        "        return root\n",
        "    \n",
        "    \n",
        "    def min_value_node(self, root):\n",
        "        current = root\n",
        "        while current.left:\n",
        "            current = current.left\n",
        "        return current\n",
        "    \n",
        "    def __getitem__(self, unique_id):\n",
        "        return self.find(unique_id)\n",
        "    \n",
        "    def find(self, el):\n",
        "        if isinstance(el, Triangle):\n",
        "            return self.find_value(self.root, gen_id(el.side1,el.side2, el.side3))\n",
        "        else:\n",
        "            return self.find_value(self.root, el)\n",
        "    \n",
        "    def find_value(self, root, value):\n",
        "        if not root or root.value == value:\n",
        "            return root\n",
        "        if root.value < value:\n",
        "            return self.find_value(root.right, value)\n",
        "        return self.find_value(root.left, value)\n",
        "\n",
        "    def __contains__(self, item):\n",
        "        return True if self.find(gen_id(item.side1, item.side2, item.side3)) != None else False\n",
        "\n",
        "    def find_length(self, root):\n",
        "        if not root:\n",
        "            return 0\n",
        "        return 1 + self.find_length(root.left) + self.find_length(root.right)\n",
        "    \n",
        "    def __repr__(self):\n",
        "        l = []\n",
        "        self.traverse(self.root, l)\n",
        "        return ''.join(str(l))\n",
        "        \n",
        "    def __str__(self):\n",
        "        l = []\n",
        "        self.traverse(self.root, l)\n",
        "        return f'Class SecondContainer with {len(self)} nodes.'\n",
        "    \n",
        "    def __len__(self):\n",
        "        return self.find_length(self.root)\n",
        "\n",
        "    def __setitem__(self, index, value):\n",
        "        pass\n",
        "\n",
        "    def __iter__(self):\n",
        "        return self\n",
        "\n",
        "    def __next__(self):\n",
        "        if self.index == len(self):\n",
        "            raise StopIteration\n",
        "        temp_l = []\n",
        "        self.traverse(self.root, temp_l)\n",
        "        data_to_ret = temp_l[self.index]\n",
        "        self.index = self.index + 1\n",
        "        return data_to_ret\n",
        "    \n",
        "    def traverse(self, node, save):\n",
        "        if not node: return\n",
        "        save.append((node.value, node.data))\n",
        "        self.traverse(node.left, save)\n",
        "        self.traverse(node.right, save)\n",
        "\n",
        "    "
      ]
    },
    {
      "cell_type": "markdown",
      "metadata": {},
      "source": [
        "Class tests below:\n",
        "    - deletion (by index): passed\n",
        "    - insertion (list of Point instances): passed\n",
        "    - find (return index of element or len(container) if no element): passed\n",
        "    - contains (find on steroids): passed\n",
        "    - len (return number of elements in container): passed\n",
        "    - str: passed\n",
        "    - repr (some tech-info): passed\n",
        "    - getitem (by index): passed\n",
        "    - iter with next: passed"
      ]
    },
    {
      "cell_type": "code",
      "execution_count": 4,
      "metadata": {
        "trusted": true
      },
      "outputs": [],
      "source": [
        "# Init\n",
        "tr = AVLTree(Triangle(10, 8, 12), Triangle(12, 12, 12), Triangle(30, 45, 45))"
      ]
    },
    {
      "cell_type": "code",
      "execution_count": 5,
      "metadata": {
        "trusted": true
      },
      "outputs": [
        {
          "name": "stdout",
          "output_type": "stream",
          "text": [
            "Class SecondContainer with 3 nodes.\n"
          ]
        },
        {
          "data": {
            "text/plain": [
              "[(121212, Triangle(side1=12 side2=12 side3=12)), (10812, Triangle(side1=10 side2=8 side3=12)), (304545, Triangle(side1=30 side2=45 side3=45))]"
            ]
          },
          "execution_count": 5,
          "metadata": {},
          "output_type": "execute_result"
        }
      ],
      "source": [
        "# str() and representation\n",
        "print(str(tr))\n",
        "tr"
      ]
    },
    {
      "cell_type": "code",
      "execution_count": 6,
      "metadata": {
        "trusted": true
      },
      "outputs": [
        {
          "data": {
            "text/plain": [
              "3"
            ]
          },
          "execution_count": 6,
          "metadata": {},
          "output_type": "execute_result"
        }
      ],
      "source": [
        "# len\n",
        "len(tr)"
      ]
    },
    {
      "cell_type": "code",
      "execution_count": 7,
      "metadata": {
        "trusted": true
      },
      "outputs": [
        {
          "data": {
            "text/plain": [
              "(<__main__.Node at 0x1e03a26b090>, __main__.Node)"
            ]
          },
          "execution_count": 7,
          "metadata": {},
          "output_type": "execute_result"
        }
      ],
      "source": [
        "# getitem\n",
        "tr[121212], type(tr[121212])"
      ]
    },
    {
      "cell_type": "code",
      "execution_count": 8,
      "metadata": {
        "trusted": true
      },
      "outputs": [
        {
          "name": "stdout",
          "output_type": "stream",
          "text": [
            "(121212, Triangle(side1=12 side2=12 side3=12))\n",
            "(10812, Triangle(side1=10 side2=8 side3=12))\n",
            "(304545, Triangle(side1=30 side2=45 side3=45))\n"
          ]
        }
      ],
      "source": [
        "# iterator with next()\n",
        "tr_it = iter(tr)\n",
        "if tr_it is not None:\n",
        "    print(next(tr_it))\n",
        "    print(next(tr_it))\n",
        "    print(next(tr_it))"
      ]
    },
    {
      "cell_type": "code",
      "execution_count": 9,
      "metadata": {
        "trusted": true
      },
      "outputs": [
        {
          "data": {
            "text/plain": [
              "[(121212, Triangle(side1=12 side2=12 side3=12)), (10812, Triangle(side1=10 side2=8 side3=12)), (304545, Triangle(side1=30 side2=45 side3=45)), (121212, Triangle(side1=12 side2=12 side3=12))]"
            ]
          },
          "execution_count": 9,
          "metadata": {},
          "output_type": "execute_result"
        }
      ],
      "source": [
        "# insertion\n",
        "tr.insert(Triangle(12, 12, 12))\n",
        "tr"
      ]
    },
    {
      "cell_type": "code",
      "execution_count": 10,
      "metadata": {
        "trusted": true
      },
      "outputs": [
        {
          "data": {
            "text/plain": [
              "[(121212, Triangle(side1=12 side2=12 side3=12)), (10812, Triangle(side1=10 side2=8 side3=12)), (304545, Triangle(side1=30 side2=45 side3=45))]"
            ]
          },
          "execution_count": 10,
          "metadata": {},
          "output_type": "execute_result"
        }
      ],
      "source": [
        "# deletion\n",
        "del tr[gen_id(12, 12, 12)]\n",
        "tr"
      ]
    },
    {
      "cell_type": "code",
      "execution_count": 11,
      "metadata": {
        "trusted": true
      },
      "outputs": [
        {
          "name": "stdout",
          "output_type": "stream",
          "text": [
            "find Triangle in class: <__main__.Node object at 0x000001E03A26B710>\n",
            "find Triangle not in class: None\n",
            "len of class: 3\n",
            "___________________________\n",
            "contains (Triangle in class): True\n",
            "contains (Triangle not in class): False\n"
          ]
        }
      ],
      "source": [
        "# find and contains\n",
        "print(f'''\n",
        "find Triangle in class: {tr.find(Triangle(10, 8, 12))}\n",
        "find Triangle not in class: {tr.find(Triangle(10, 6, 8))}\n",
        "len of class: {len(tr)}\n",
        "___________________________\n",
        "contains (Triangle in class): {Triangle(10, 8, 12) in tr}\n",
        "contains (Triangle not in class): {Triangle(10, 6, 8) in tr}\n",
        "'''.strip())"
      ]
    },
    {
      "cell_type": "code",
      "execution_count": 12,
      "metadata": {
        "trusted": true
      },
      "outputs": [],
      "source": [
        "import numpy as np"
      ]
    },
    {
      "cell_type": "code",
      "execution_count": 13,
      "metadata": {
        "trusted": true
      },
      "outputs": [],
      "source": [
        "import matplotlib.pyplot as plt"
      ]
    },
    {
      "cell_type": "code",
      "execution_count": 14,
      "metadata": {
        "trusted": true
      },
      "outputs": [],
      "source": [
        "import timeit\n",
        "import math\n",
        "import random"
      ]
    },
    {
      "cell_type": "code",
      "execution_count": 19,
      "metadata": {
        "trusted": true
      },
      "outputs": [],
      "source": [
        "plt.rcParams['figure.figsize'] = [10, 6]\n",
        "def perform_bench(type_of_bench):\n",
        "    ts = []\n",
        "    if type_of_bench == 'insert':\n",
        "        ns = np.linspace(1, 10_000, 10, dtype=int)\n",
        "        for n in ns:\n",
        "            measurements = []\n",
        "            for _ in range(1000):\n",
        "                c = AVLTree(*[Triangle(i, i, i) for i in range(1, n)])\n",
        "                measurements = timeit.timeit(c.insert(Triangle(n, n, n)), number=1, globals=globals())\n",
        "            ts.append(measurements)\n",
        "    \n",
        "    elif type_of_bench == 'delete':\n",
        "        ns = np.linspace(1, 10_000, 10, dtype=int)\n",
        "        for n in ns:\n",
        "            measurements = []\n",
        "            for _ in range(1000):\n",
        "                c = AVLTree(*[Triangle(i, i, i) for i in range(1, n)])\n",
        "                measurements = timeit.timeit('del c[{}]'.format(n - 1), number=1, globals=globals())\n",
        "            ts.append(measurements)\n",
        "            \n",
        "    elif type_of_bench == 'find':\n",
        "        ns = np.linspace(1, 10_000, 10, dtype=int)\n",
        "        for n in ns:\n",
        "            measurements = []\n",
        "            for _ in range(1000):\n",
        "                c = AVLTree(*[Triangle(i, i, i) for i in range(1, n)])\n",
        "                measurements = timeit.timeit(c.find(Triangle(n, n, n)), number=1, globals=globals())\n",
        "            ts.append(measurements)\n",
        "    \n",
        "    elif type_of_bench == 'contains':\n",
        "        ns = np.linspace(1, 10_000, 10, dtype=int)\n",
        "        for n in ns:\n",
        "            measurements = []\n",
        "            for _ in range(1000):\n",
        "                c = AVLTree(*[Triangle(i, i, i) for i in range(1, n)])\n",
        "                measurements = timeit.timeit(Triangle(n, n, n) in c, number=1, globals=globals())\n",
        "            ts.append(measurements)\n",
        "    \n",
        "    std_devs = np.std(ts, axis=1)\n",
        "    ts = np.mean(ts, axis=1)\n",
        "    plt.errorbar(ns, ts, yerr=std_devs, fmt='-', capsize=5, color='blue')\n",
        "    degree = 4\n",
        "    coeffs = np.polyfit(ns, ts, degree)\n",
        "    p = np.poly1d(coeffs)\n",
        "    plt.plot(ns, [p(n) for n in ns], '-b')"
      ]
    },
    {
      "cell_type": "code",
      "execution_count": 21,
      "metadata": {
        "trusted": true
      },
      "outputs": [
        {
          "ename": "ValueError",
          "evalue": "stmt is neither a string nor callable",
          "output_type": "error",
          "traceback": [
            "\u001b[1;31m---------------------------------------------------------------------------\u001b[0m",
            "\u001b[1;31mValueError\u001b[0m                                Traceback (most recent call last)",
            "Cell \u001b[1;32mIn[21], line 1\u001b[0m\n\u001b[1;32m----> 1\u001b[0m \u001b[43mperform_bench\u001b[49m\u001b[43m(\u001b[49m\u001b[38;5;124;43m'\u001b[39;49m\u001b[38;5;124;43minsert\u001b[39;49m\u001b[38;5;124;43m'\u001b[39;49m\u001b[43m)\u001b[49m\n",
            "Cell \u001b[1;32mIn[19], line 10\u001b[0m, in \u001b[0;36mperform_bench\u001b[1;34m(type_of_bench)\u001b[0m\n\u001b[0;32m      8\u001b[0m         \u001b[38;5;28;01mfor\u001b[39;00m _ \u001b[38;5;129;01min\u001b[39;00m \u001b[38;5;28mrange\u001b[39m(\u001b[38;5;241m1000\u001b[39m):\n\u001b[0;32m      9\u001b[0m             c \u001b[38;5;241m=\u001b[39m AVLTree(\u001b[38;5;241m*\u001b[39m[Triangle(i, i, i) \u001b[38;5;28;01mfor\u001b[39;00m i \u001b[38;5;129;01min\u001b[39;00m \u001b[38;5;28mrange\u001b[39m(\u001b[38;5;241m1\u001b[39m, n)])\n\u001b[1;32m---> 10\u001b[0m             measurements \u001b[38;5;241m=\u001b[39m \u001b[43mtimeit\u001b[49m\u001b[38;5;241;43m.\u001b[39;49m\u001b[43mtimeit\u001b[49m\u001b[43m(\u001b[49m\u001b[43mc\u001b[49m\u001b[38;5;241;43m.\u001b[39;49m\u001b[43minsert\u001b[49m\u001b[43m(\u001b[49m\u001b[43mTriangle\u001b[49m\u001b[43m(\u001b[49m\u001b[43mn\u001b[49m\u001b[43m,\u001b[49m\u001b[43m \u001b[49m\u001b[43mn\u001b[49m\u001b[43m,\u001b[49m\u001b[43m \u001b[49m\u001b[43mn\u001b[49m\u001b[43m)\u001b[49m\u001b[43m)\u001b[49m\u001b[43m,\u001b[49m\u001b[43m \u001b[49m\u001b[43mnumber\u001b[49m\u001b[38;5;241;43m=\u001b[39;49m\u001b[38;5;241;43m1\u001b[39;49m\u001b[43m,\u001b[49m\u001b[43m \u001b[49m\u001b[38;5;28;43mglobals\u001b[39;49m\u001b[38;5;241;43m=\u001b[39;49m\u001b[38;5;28;43mglobals\u001b[39;49m\u001b[43m(\u001b[49m\u001b[43m)\u001b[49m\u001b[43m)\u001b[49m\n\u001b[0;32m     11\u001b[0m         ts\u001b[38;5;241m.\u001b[39mappend(measurements)\n\u001b[0;32m     13\u001b[0m \u001b[38;5;28;01melif\u001b[39;00m type_of_bench \u001b[38;5;241m==\u001b[39m \u001b[38;5;124m'\u001b[39m\u001b[38;5;124mdelete\u001b[39m\u001b[38;5;124m'\u001b[39m:\n",
            "File \u001b[1;32mC:\\Program Files\\WindowsApps\\PythonSoftwareFoundation.Python.3.11_3.11.2544.0_x64__qbz5n2kfra8p0\\Lib\\timeit.py:237\u001b[0m, in \u001b[0;36mtimeit\u001b[1;34m(stmt, setup, timer, number, globals)\u001b[0m\n\u001b[0;32m    234\u001b[0m \u001b[38;5;28;01mdef\u001b[39;00m \u001b[38;5;21mtimeit\u001b[39m(stmt\u001b[38;5;241m=\u001b[39m\u001b[38;5;124m\"\u001b[39m\u001b[38;5;124mpass\u001b[39m\u001b[38;5;124m\"\u001b[39m, setup\u001b[38;5;241m=\u001b[39m\u001b[38;5;124m\"\u001b[39m\u001b[38;5;124mpass\u001b[39m\u001b[38;5;124m\"\u001b[39m, timer\u001b[38;5;241m=\u001b[39mdefault_timer,\n\u001b[0;32m    235\u001b[0m            number\u001b[38;5;241m=\u001b[39mdefault_number, \u001b[38;5;28mglobals\u001b[39m\u001b[38;5;241m=\u001b[39m\u001b[38;5;28;01mNone\u001b[39;00m):\n\u001b[0;32m    236\u001b[0m \u001b[38;5;250m    \u001b[39m\u001b[38;5;124;03m\"\"\"Convenience function to create Timer object and call timeit method.\"\"\"\u001b[39;00m\n\u001b[1;32m--> 237\u001b[0m     \u001b[38;5;28;01mreturn\u001b[39;00m \u001b[43mTimer\u001b[49m\u001b[43m(\u001b[49m\u001b[43mstmt\u001b[49m\u001b[43m,\u001b[49m\u001b[43m \u001b[49m\u001b[43msetup\u001b[49m\u001b[43m,\u001b[49m\u001b[43m \u001b[49m\u001b[43mtimer\u001b[49m\u001b[43m,\u001b[49m\u001b[43m \u001b[49m\u001b[38;5;28;43mglobals\u001b[39;49m\u001b[43m)\u001b[49m\u001b[38;5;241m.\u001b[39mtimeit(number)\n",
            "File \u001b[1;32mC:\\Program Files\\WindowsApps\\PythonSoftwareFoundation.Python.3.11_3.11.2544.0_x64__qbz5n2kfra8p0\\Lib\\timeit.py:132\u001b[0m, in \u001b[0;36mTimer.__init__\u001b[1;34m(self, stmt, setup, timer, globals)\u001b[0m\n\u001b[0;32m    130\u001b[0m     stmt \u001b[38;5;241m=\u001b[39m \u001b[38;5;124m'\u001b[39m\u001b[38;5;124m_stmt()\u001b[39m\u001b[38;5;124m'\u001b[39m\n\u001b[0;32m    131\u001b[0m \u001b[38;5;28;01melse\u001b[39;00m:\n\u001b[1;32m--> 132\u001b[0m     \u001b[38;5;28;01mraise\u001b[39;00m \u001b[38;5;167;01mValueError\u001b[39;00m(\u001b[38;5;124m\"\u001b[39m\u001b[38;5;124mstmt is neither a string nor callable\u001b[39m\u001b[38;5;124m\"\u001b[39m)\n\u001b[0;32m    133\u001b[0m src \u001b[38;5;241m=\u001b[39m template\u001b[38;5;241m.\u001b[39mformat(stmt\u001b[38;5;241m=\u001b[39mstmt, setup\u001b[38;5;241m=\u001b[39msetup, init\u001b[38;5;241m=\u001b[39minit)\n\u001b[0;32m    134\u001b[0m \u001b[38;5;28mself\u001b[39m\u001b[38;5;241m.\u001b[39msrc \u001b[38;5;241m=\u001b[39m src  \u001b[38;5;66;03m# Save for traceback display\u001b[39;00m\n",
            "\u001b[1;31mValueError\u001b[0m: stmt is neither a string nor callable"
          ]
        }
      ],
      "source": [
        "perform_bench('insert')"
      ]
    },
    {
      "cell_type": "code",
      "execution_count": null,
      "metadata": {
        "trusted": true
      },
      "outputs": [
        {
          "data": {
            "image/png": "[encoded data removed]",
            "text/plain": [
              "<Figure size 1000x600 with 1 Axes>"
            ]
          },
          "metadata": {},
          "output_type": "display_data"
        }
      ],
      "source": [
        "perform_bench('find')"
      ]
    },
    {
      "cell_type": "code",
      "execution_count": null,
      "metadata": {
        "trusted": true
      },
      "outputs": [
        {
          "data": {
            "image/png": "[encoded data removed]",
            "text/plain": [
              "<Figure size 1000x600 with 1 Axes>"
            ]
          },
          "metadata": {},
          "output_type": "display_data"
        }
      ],
      "source": [
        "perform_bench('contains')"
      ]
    },
    {
      "cell_type": "code",
      "execution_count": null,
      "metadata": {
        "trusted": true
      },
      "outputs": [
        {
          "data": {
            "image/png": "[encoded data removed]",
            "text/plain": [
              "<Figure size 1000x600 with 1 Axes>"
            ]
          },
          "metadata": {},
          "output_type": "display_data"
        }
      ],
      "source": [
        "perform_bench('delete')"
      ]
    }
  ],
  "metadata": {
    "kernelspec": {
      "display_name": "Python 3",
      "language": "python",
      "name": "python3"
    },
    "language_info": {
      "codemirror_mode": {
        "name": "ipython",
        "version": 3
      },
      "file_extension": ".py",
      "mimetype": "text/x-python",
      "name": "python",
      "nbconvert_exporter": "python",
      "pygments_lexer": "ipython3",
      "version": "3.11.9"
    }
  },
  "nbformat": 4,
  "nbformat_minor": 4
}
